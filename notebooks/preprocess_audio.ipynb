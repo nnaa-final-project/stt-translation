{
 "cells": [
  {
   "cell_type": "markdown",
   "id": "4d81c703",
   "metadata": {},
   "source": [
    "# Preprocess Audio Data\n",
    "\n",
    "This notebook integrates the preprocessing steps into a single workflow.\n",
    "\n",
    "1. **Load & link** Common Voice ↔︎ CoVoST (by `path`) → `merged_en_de.csv`  \n",
    "2. **EDA** for **duration**, **SNR**, **vote score** (matplotlib-only)  \n",
    "3. **Filtering**: translation present, duration bounds, SNR threshold, vote score > 0  \n",
    "4. **Speaker-disjoint split** by `client_id` (deterministic, e.g., 98/1/1)  \n",
    "5. **Audio standardization** per file: MP3→WAV(16k/mono/16-bit), loudness normalize, HP/LP, VAD trimming  \n",
    "6. **Feature extraction**: log-Mel; **CMVN computed on TRAIN only** and applied to Dev/Test  \n",
    "7. **Augmentation (TRAIN only)**: demo (speed 0.9/1.1), plus SpecAugment reference"
   ]
  },
  {
   "cell_type": "markdown",
   "id": "de0f43ec",
   "metadata": {},
   "source": [
    "## Requirements\n",
    "- Files: Common Voice v4 (`validated.tsv`, `train.tsv`, `dev.tsv`, `test.tsv`, `invalidated.tsv`, `other.tsv`) + `clips/`; CoVoST v2 (`covost_v2.en_de.tsv`)\n",
    "- Tools: **FFmpeg** on PATH\n",
    "- Python: `pandas`, `numpy`, `soundfile`, `librosa`, `tqdm`, `webrtcvad`, `scipy`"
   ]
  },
  {
   "cell_type": "markdown",
   "id": "8310b2be",
   "metadata": {},
   "source": [
    "## Configuration"
   ]
  },
  {
   "cell_type": "code",
   "execution_count": 1,
   "id": "ea502b37",
   "metadata": {},
   "outputs": [],
   "source": [
    "from pathlib import Path\n",
    "\n",
    "# Paths\n",
    "CV_DIR   = Path(\"E:/datasets/common_voice_4\")\n",
    "CLIPS    = CV_DIR / \"clips\"\n",
    "COVOST   = CV_DIR / \"covost_v2.en_de.tsv\"\n",
    "MERGED_CSV = CV_DIR / \"merged_en_de.csv\"\n",
    "\n",
    "CV_SPLITS = [\"validated.tsv\", \"train.tsv\", \"dev.tsv\", \"test.tsv\", \"invalidated.tsv\", \"other.tsv\"]\n",
    "\n",
    "# Working & outputs\n",
    "WORK_DIR = Path(\".\")\n",
    "PROC_DIR = CV_DIR / \"processed\"\n",
    "WAV_DIR  = PROC_DIR / \"wav16k\"\n",
    "FEAT_DIR = PROC_DIR / \"features\"\n",
    "AUG_DIR  = PROC_DIR / \"aug\"\n",
    "\n",
    "for folder in [WORK_DIR, PROC_DIR, WAV_DIR, FEAT_DIR, AUG_DIR]:\n",
    "    folder.mkdir(parents=True, exist_ok=True)\n",
    "\n",
    "# Thresholds\n",
    "MIN_DUR = 0.5\n",
    "MAX_DUR = 20.0\n",
    "THRESH_SNR_DB = 10.0\n",
    "\n",
    "# Split ratio\n",
    "SPLIT_RATIO = (98, 1, 1)\n",
    "\n",
    "# Audio/feature parameters\n",
    "SR_TARGET = 16000\n",
    "N_MELS = 80\n",
    "WIN_MS = 25\n",
    "HOP_MS = 10\n",
    "\n",
    "# ffmpeg VAD-ish trimming\n",
    "SIL_START_DB = -40\n",
    "SIL_STOP_DB  = -40\n",
    "SIL_PAD_S    = 0.3\n",
    "\n",
    "# tiny dev helper\n",
    "TINY_DEV_TARGET = 1000\n",
    "MAX_PER_SPK_TINY = 2"
   ]
  },
  {
   "cell_type": "markdown",
   "id": "51b4388b",
   "metadata": {},
   "source": [
    "## Imports"
   ]
  },
  {
   "cell_type": "code",
   "execution_count": 2,
   "id": "5771c3fc",
   "metadata": {},
   "outputs": [],
   "source": [
    "import os, sys, json, math, hashlib, subprocess, warnings\n",
    "from typing import Optional, Tuple\n",
    "import numpy as np\n",
    "import pandas as pd\n",
    "import soundfile as sf\n",
    "import librosa\n",
    "from tqdm import tqdm\n",
    "import matplotlib.pyplot as plt\n",
    "import seaborn as sns\n",
    "\n",
    "USE_WEBRTCVAD = False\n",
    "try:\n",
    "    import webrtcvad\n",
    "    vad = webrtcvad.Vad(2)\n",
    "    USE_WEBRTCVAD = True\n",
    "except Exception:\n",
    "    warnings.warn(\"webrtcvad not available; using energy-based SNR/VAD proxies.\")"
   ]
  },
  {
   "cell_type": "markdown",
   "id": "539fce57",
   "metadata": {},
   "source": [
    "## Helper Functions"
   ]
  },
  {
   "cell_type": "code",
   "execution_count": 3,
   "id": "afac3d6c",
   "metadata": {},
   "outputs": [],
   "source": [
    "def audio_duration_seconds(path: Path) -> Optional[float]:\n",
    "    try:\n",
    "        info = sf.info(str(path))\n",
    "        return float(info.frames) / float(info.samplerate)\n",
    "    except Exception:\n",
    "        pass\n",
    "    try:\n",
    "        out = subprocess.check_output(\n",
    "            [\"ffprobe\",\"-v\",\"error\",\"-show_entries\",\"format=duration\",\"-of\",\"default=nk=1:nw=1\", str(path)],\n",
    "            stderr=subprocess.STDOUT\n",
    "        ).decode().strip()\n",
    "        return float(out)\n",
    "    except Exception:\n",
    "        return None\n",
    "\n",
    "def load_audio_float_mono(path: Path) -> Tuple[Optional[np.ndarray], Optional[int]]:\n",
    "    try:\n",
    "        y, sr = sf.read(str(path), always_2d=False)\n",
    "        if isinstance(y, np.ndarray) and y.ndim == 2:\n",
    "            y = y.mean(axis=1)\n",
    "        y = y.astype(np.float32, copy=False)\n",
    "        max_abs = np.max(np.abs(y)) if y.size else 1.0\n",
    "        if max_abs > 1.0:\n",
    "            y = y / max_abs\n",
    "        return y, sr\n",
    "    except Exception:\n",
    "        return None, None\n",
    "\n",
    "def snr_db_energy_proxy(y: np.ndarray, sr: int, frame_ms: int = 30) -> Optional[float]:\n",
    "    if y is None or y.size == 0:\n",
    "        return None\n",
    "    frame_len = max(int(sr * frame_ms / 1000), 1)\n",
    "    frames = [y[i:i+frame_len] for i in range(0, len(y), frame_len) if len(y[i:i+frame_len]) == frame_len]\n",
    "    if not frames:\n",
    "        return None\n",
    "    rms = np.array([np.sqrt(np.mean(f**2) + 1e-12) for f in frames])\n",
    "    low  = np.percentile(rms, 20)\n",
    "    high = np.percentile(rms, 80)\n",
    "    Pn = max(low**2, 1e-12)\n",
    "    Ps = max(high**2, 1e-12)\n",
    "    return 10.0 * math.log10(Ps / Pn)\n",
    "\n",
    "def snr_db_with_vad(y: np.ndarray, sr: int, frame_ms: int = 30) -> Optional[float]:\n",
    "    if not USE_WEBRTCVAD or sr not in (8000,16000,32000,48000):\n",
    "        return None\n",
    "    x = (y * 32767.0).clip(-32768, 32767).astype(np.int16)\n",
    "    bytes_data = x.tobytes()\n",
    "    step = int(sr * frame_ms / 1000) * 2\n",
    "    frames_b = [bytes_data[i:i+step] for i in range(0, len(bytes_data), step) if len(bytes_data[i:i+step]) == step]\n",
    "    if not frames_b:\n",
    "        return None\n",
    "    voiced = []\n",
    "    for f in frames_b:\n",
    "        try:\n",
    "            voiced.append(vad.is_speech(f, sr))\n",
    "        except Exception:\n",
    "            return None\n",
    "    frame_len = int(sr * frame_ms / 1000)\n",
    "    frames_f = [x.astype(np.float32)/32768.0 for x in [x[i:i+frame_len] for i in range(0, len(x), frame_len) if len(x[i:i+frame_len])==frame_len]]\n",
    "    if len(frames_f) != len(voiced) or not frames_f:\n",
    "        return None\n",
    "    voiced_rms = [np.sqrt(np.mean(f**2) + 1e-12) for f,v in zip(frames_f, voiced) if v]\n",
    "    noise_rms  = [np.sqrt(np.mean(f**2) + 1e-12) for f,v in zip(frames_f, voiced) if not v]\n",
    "    if len(voiced_rms) < 1 or len(noise_rms) < 1:\n",
    "        return None\n",
    "    Ps = np.mean(np.array(voiced_rms)**2)\n",
    "    Pn = np.mean(np.array(noise_rms)**2)\n",
    "    return 10.0 * math.log10(max(Ps,1e-12)/max(Pn,1e-12))\n",
    "\n",
    "def estimate_snr_db(path: Path) -> Optional[float]:\n",
    "    y, sr = load_audio_float_mono(path)\n",
    "    if y is None or sr is None:\n",
    "        return None\n",
    "    s = snr_db_with_vad(y, sr)\n",
    "    if s is not None:\n",
    "        return s\n",
    "    return snr_db_energy_proxy(y, sr)\n",
    "\n",
    "def assign_split_by_speaker(client_id: str, ratio=(98,1,1)) -> str:\n",
    "    assert sum(ratio) == 100\n",
    "    train_r, dev_r, test_r = ratio\n",
    "    bucket = int(hashlib.md5(client_id.encode(\"utf-8\")).hexdigest(), 16) % 100\n",
    "    if bucket < train_r: return \"train\"\n",
    "    elif bucket < train_r + dev_r: return \"dev\"\n",
    "    else: return \"test\""
   ]
  },
  {
   "cell_type": "markdown",
   "id": "57d9fcd5",
   "metadata": {},
   "source": [
    "## 1. Load & Link (Common Voice ↔ CoVoST by `path`)\n",
    "\n",
    "Writes `merged_en_de.csv` with columns: `audio_path`, `en_text`, `de_text`, and keeps `path` to enable vote joins."
   ]
  },
  {
   "cell_type": "code",
   "execution_count": 4,
   "id": "a0662606",
   "metadata": {},
   "outputs": [
    {
     "name": "stderr",
     "output_type": "stream",
     "text": [
      "C:\\Users\\Grace\\AppData\\Local\\Temp\\ipykernel_31836\\3131101617.py:6: DtypeWarning: Columns (7) have mixed types. Specify dtype option on import or set low_memory=False.\n",
      "  df = pd.read_csv(path, sep=\"\\t\")\n"
     ]
    },
    {
     "name": "stdout",
     "output_type": "stream",
     "text": [
      "validated.tsv       :   854444 rows\n",
      "train.tsv           :   232975 rows\n",
      "dev.tsv             :    15531 rows\n",
      "test.tsv            :    15531 rows\n",
      "invalidated.tsv     :   124820 rows\n",
      "other.tsv           :   155485 rows\n"
     ]
    },
    {
     "name": "stderr",
     "output_type": "stream",
     "text": [
      "C:\\Users\\Grace\\AppData\\Local\\Temp\\ipykernel_31836\\3131101617.py:28: DtypeWarning: Columns (7) have mixed types. Specify dtype option on import or set low_memory=False.\n",
      "  cv_df = pd.read_csv(path, sep=\"\\t\")\n"
     ]
    },
    {
     "name": "stdout",
     "output_type": "stream",
     "text": [
      "validated.tsv       : matched 799608 / 854444 rows (93.58%)\n",
      "train.tsv           : matched 219399 / 232975 rows (94.17%)\n",
      "dev.tsv             : matched  12830 /  15531 rows (82.61%)\n",
      "test.tsv            : matched  15531 /  15531 rows (100.00%)\n",
      "invalidated.tsv     : matched      0 / 124820 rows (0.00%)\n",
      "other.tsv           : matched      0 / 155485 rows (0.00%)\n",
      "Total matched samples written to: E:\\datasets\\common_voice_4\\merged_en_de.csv\n"
     ]
    },
    {
     "data": {
      "text/html": [
       "<div>\n",
       "<style scoped>\n",
       "    .dataframe tbody tr th:only-of-type {\n",
       "        vertical-align: middle;\n",
       "    }\n",
       "\n",
       "    .dataframe tbody tr th {\n",
       "        vertical-align: top;\n",
       "    }\n",
       "\n",
       "    .dataframe thead th {\n",
       "        text-align: right;\n",
       "    }\n",
       "</style>\n",
       "<table border=\"1\" class=\"dataframe\">\n",
       "  <thead>\n",
       "    <tr style=\"text-align: right;\">\n",
       "      <th></th>\n",
       "      <th>audio_path</th>\n",
       "      <th>en_text</th>\n",
       "      <th>de_text</th>\n",
       "    </tr>\n",
       "  </thead>\n",
       "  <tbody>\n",
       "    <tr>\n",
       "      <th>0</th>\n",
       "      <td>E:\\datasets\\common_voice_4\\clips\\common_voice_...</td>\n",
       "      <td>She'll be all right.</td>\n",
       "      <td>Sie wird schon in Ordnung sein.</td>\n",
       "    </tr>\n",
       "    <tr>\n",
       "      <th>1</th>\n",
       "      <td>E:\\datasets\\common_voice_4\\clips\\common_voice_...</td>\n",
       "      <td>All's well that ends well.</td>\n",
       "      <td>Ende gut, alles gut.</td>\n",
       "    </tr>\n",
       "    <tr>\n",
       "      <th>2</th>\n",
       "      <td>E:\\datasets\\common_voice_4\\clips\\common_voice_...</td>\n",
       "      <td>Do you mean it?</td>\n",
       "      <td>Meinst du das wirklich so?</td>\n",
       "    </tr>\n",
       "  </tbody>\n",
       "</table>\n",
       "</div>"
      ],
      "text/plain": [
       "                                          audio_path  \\\n",
       "0  E:\\datasets\\common_voice_4\\clips\\common_voice_...   \n",
       "1  E:\\datasets\\common_voice_4\\clips\\common_voice_...   \n",
       "2  E:\\datasets\\common_voice_4\\clips\\common_voice_...   \n",
       "\n",
       "                      en_text                          de_text  \n",
       "0        She'll be all right.  Sie wird schon in Ordnung sein.  \n",
       "1  All's well that ends well.             Ende gut, alles gut.  \n",
       "2             Do you mean it?       Meinst du das wirklich so?  "
      ]
     },
     "execution_count": 4,
     "metadata": {},
     "output_type": "execute_result"
    }
   ],
   "source": [
    "# 1) Load CV split files and report sizes\n",
    "total_possible = 0\n",
    "for file in CV_SPLITS:\n",
    "    path = CV_DIR / file\n",
    "    try:\n",
    "        df = pd.read_csv(path, sep=\"\\t\")\n",
    "        print(f\"{file:<20}: {len(df):>8} rows\")\n",
    "        total_possible += len(df)\n",
    "    except Exception as e:\n",
    "        print(f\"{file:<20}: Error - {e}\")\n",
    "\n",
    "# 2) Load CoVoST & merge matching paths\n",
    "covost_df = pd.read_csv(COVOST, sep=\"\\t\")\n",
    "assert \"path\" in covost_df.columns, \"CoVoST must contain 'path'\"\n",
    "\n",
    "# find translation col name\n",
    "cands = [c for c in covost_df.columns if c.lower().startswith(\"translation\") or c.endswith(\"_de\")]\n",
    "translation_col = cands[0] if cands else \"translation\"\n",
    "if translation_col not in covost_df.columns:\n",
    "    raise ValueError(\"Could not find translation column in CoVoST TSV.\")\n",
    "\n",
    "merged_dfs = []\n",
    "for file_name in CV_SPLITS:\n",
    "    path = CV_DIR / file_name\n",
    "    if not path.exists(): \n",
    "        continue\n",
    "    try:\n",
    "        cv_df = pd.read_csv(path, sep=\"\\t\")\n",
    "        matched = pd.merge(cv_df, covost_df, on=\"path\")\n",
    "        print(f\"{file_name:<20}: matched {len(matched):>6} / {len(cv_df):>6} rows ({100 * len(matched)/max(len(cv_df),1):.2f}%)\")\n",
    "        matched[\"audio_path\"] = matched[\"path\"].apply(lambda q: str(CLIPS / q))\n",
    "        en_col = \"sentence\" if \"sentence\" in matched.columns else \"en_text\"\n",
    "        matched = matched[[\"audio_path\", en_col, translation_col]].rename(columns={en_col:\"en_text\", translation_col:\"de_text\"})\n",
    "        merged_dfs.append(matched)\n",
    "    except Exception as e:\n",
    "        print(f\"{file_name:<20}: Merge error - {e}\")\n",
    "\n",
    "merged_df = pd.concat(merged_dfs, ignore_index=True) if merged_dfs else pd.DataFrame(columns=[\"audio_path\",\"en_text\",\"de_text\"])\n",
    "merged_df.to_csv(MERGED_CSV, index=False)\n",
    "print(f\"Total matched samples written to: {MERGED_CSV}\")\n",
    "merged_df.head(3)"
   ]
  },
  {
   "cell_type": "markdown",
   "id": "99ae5712",
   "metadata": {},
   "source": [
    "## 2. EDA (Duration, SNR, Vote Score)\n",
    "\n",
    "We first visualize distributions (duration, SNR, votes), *then* apply the filtering thresholds to produce `merged_en_de_filtered.csv`.\n",
    "\n",
    "For speed, plots sample the first ~10k rows, but **filtering is applied to the full dataset**."
   ]
  },
  {
   "cell_type": "markdown",
   "id": "6c8127fe",
   "metadata": {},
   "source": [
    "### 2.1 Duration - Visualization"
   ]
  },
  {
   "cell_type": "code",
   "execution_count": 5,
   "id": "e2f492b9",
   "metadata": {},
   "outputs": [
    {
     "name": "stderr",
     "output_type": "stream",
     "text": [
      "Duration (Visualization): 100%|██████████| 10000/10000 [00:55<00:00, 179.78it/s]\n"
     ]
    },
    {
     "data": {
      "image/png": "[encoded data removed]",
      "text/plain": [
       "<Figure size 640x480 with 1 Axes>"
      ]
     },
     "metadata": {},
     "output_type": "display_data"
    },
    {
     "name": "stdout",
     "output_type": "stream",
     "text": [
      "count    10000.000000\n",
      "mean         5.657874\n",
      "std          3.013082\n",
      "min          1.109625\n",
      "25%          3.941625\n",
      "50%          5.252125\n",
      "75%          6.868125\n",
      "max        106.828125\n",
      "Name: duration_sec, dtype: float64\n"
     ]
    }
   ],
   "source": [
    "# Duration distribution\n",
    "df = pd.read_csv(MERGED_CSV)\n",
    "\n",
    "# Calculate durations for first 10k samples\n",
    "plot_sample = df.iloc[:10000].copy()\n",
    "durations = []\n",
    "for path in tqdm(plot_sample[\"audio_path\"], desc=\"Duration (Visualization)\"):\n",
    "    try:\n",
    "        duration = librosa.get_duration(path=path)\n",
    "    except Exception as e:\n",
    "        durations = None\n",
    "    durations.append(duration)\n",
    "\n",
    "# Add to DataFrame\n",
    "plot_sample[\"duration_sec\"] = durations\n",
    "plot_sample = plot_sample.dropna(subset=[\"duration_sec\"])\n",
    "\n",
    "# Plot\n",
    "plt.figure()\n",
    "sns.histplot(plot_sample[\"duration_sec\"], bins=80)\n",
    "plt.title(\"Distribution of Audio Durations (sample)\")\n",
    "plt.xlabel(\"Duration (seconds)\")\n",
    "plt.ylabel(\"Frequency\")\n",
    "plt.grid(True)\n",
    "plt.tight_layout()\n",
    "plt.show()\n",
    "\n",
    "# Summary\n",
    "print(plot_sample[\"duration_sec\"].describe())"
   ]
  },
  {
   "cell_type": "markdown",
   "id": "51ef6637",
   "metadata": {},
   "source": [
    "### 2.2 SNR - Visualization"
   ]
  },
  {
   "cell_type": "code",
   "execution_count": 6,
   "id": "5b15792c",
   "metadata": {},
   "outputs": [
    {
     "name": "stderr",
     "output_type": "stream",
     "text": [
      "SNR (Visualization): 100%|██████████| 10000/10000 [01:15<00:00, 132.27it/s]\n"
     ]
    },
    {
     "data": {
      "image/png": "[encoded data removed]",
      "text/plain": [
       "<Figure size 640x480 with 1 Axes>"
      ]
     },
     "metadata": {},
     "output_type": "display_data"
    },
    {
     "data": {
      "text/plain": [
       "count    1.000000e+04\n",
       "mean     6.558240e+01\n",
       "std      1.003505e+01\n",
       "min     -1.228269e-07\n",
       "25%      6.029929e+01\n",
       "50%      6.811722e+01\n",
       "75%      7.271590e+01\n",
       "max      8.636800e+01\n",
       "Name: snr_db, dtype: float64"
      ]
     },
     "execution_count": 6,
     "metadata": {},
     "output_type": "execute_result"
    }
   ],
   "source": [
    "def estimate_snr_librosa(path, sr=SR_TARGET):\n",
    "    try:\n",
    "        y, _ = librosa.load(path, sr=SR_TARGET)\n",
    "        total_energy = float(np.mean(y**2) + 1e-9)\n",
    "        intervals = librosa.effects.split(y, top_db=20) # non-silent parts\n",
    "        if intervals.size > 0:\n",
    "            voiced = np.concatenate([y[s:e] for s,e in intervals])\n",
    "            signal_energy = float(np.mean(voiced**2) + 1e-9)\n",
    "        else:\n",
    "            signal_energy = 0.0\n",
    "        noise_energy = max(total_energy - signal_energy, 1e-9)\n",
    "        return 10.0 * np.log10(signal_energy / noise_energy) # avoid zero div\n",
    "    except Exception:\n",
    "        return None\n",
    "\n",
    "snr_vals = []\n",
    "for path in tqdm(plot_sample[\"audio_path\"], desc=\"SNR (Visualization)\"):\n",
    "    snr_vals.append(estimate_snr_librosa(path))\n",
    "snr_viz = plot_sample.copy().assign(snr_db=snr_vals).dropna(subset=[\"snr_db\"])\n",
    "\n",
    "plt.figure()\n",
    "sns.histplot(snr_viz[\"snr_db\"], bins=50)\n",
    "plt.title(\"Estimated SNR Distribution (sample)\")\n",
    "plt.xlabel(\"SNR (dB)\")\n",
    "plt.ylabel(\"Frequency\")\n",
    "plt.grid(True)\n",
    "plt.tight_layout()\n",
    "plt.show()\n",
    "\n",
    "snr_viz[\"snr_db\"].describe()"
   ]
  },
  {
   "cell_type": "markdown",
   "id": "39e7b461",
   "metadata": {},
   "source": [
    "### 2.3 Apply Filtering (full dataset)\n",
    "\n",
    "Rules:\n",
    "- Keep samples with **`MIN_DUR ≤ duration ≤ MAX_DUR`**\n",
    "- Keep samples with **`SNR ≥ THRESH_SNR_DB`**\n",
    "\n",
    "This produces `merged_en_de_filtered.csv` for the next steps."
   ]
  },
  {
   "cell_type": "code",
   "execution_count": 11,
   "id": "36255c24",
   "metadata": {},
   "outputs": [],
   "source": [
    "def safe_duration(path: str) -> float | None:\n",
    "    \"\"\"Duration in seconds using librosa; None on failure.\"\"\"\n",
    "    try:\n",
    "        return float(librosa.get_duration(path=path))\n",
    "    except Exception:\n",
    "        return None\n",
    "\n",
    "def estimate_snr_librosa(filename: str, sr: int = SR_TARGET, top_db: int = 20) -> float | None:\n",
    "    \"\"\"\n",
    "    Approximate SNR(dB) = 10*log10(signal_energy / noise_energy)\n",
    "    where 'signal' = non-silent segments found by librosa.effects.split.\n",
    "    \"\"\"\n",
    "    try:\n",
    "        y, _ = librosa.load(filename, sr=sr, mono=True)\n",
    "        if y.size == 0:\n",
    "            return None\n",
    "        total_e = float(np.mean(y**2) + 1e-9)\n",
    "        intervals = librosa.effects.split(y, top_db=top_db)\n",
    "        if intervals.size > 0:\n",
    "            voiced = np.concatenate([y[s:e] for s, e in intervals])\n",
    "            signal_e = float(np.mean(voiced**2) + 1e-9)\n",
    "        else:\n",
    "            signal_e = 0.0\n",
    "        noise_e = max(total_e - signal_e, 1e-9)\n",
    "        return 10.0 * np.log10(signal_e / noise_e)\n",
    "    except Exception:\n",
    "        return None"
   ]
  },
  {
   "cell_type": "code",
   "execution_count": null,
   "id": "84c59989",
   "metadata": {},
   "outputs": [
    {
     "name": "stderr",
     "output_type": "stream",
     "text": [
      "Compute duration (all):  47%|████▋     | 493410/1047368 [4:08:17<4:50:05, 31.83it/s]   "
     ]
    }
   ],
   "source": [
    "# ---- compute duration if missing ----\n",
    "if \"duration_sec\" not in df.columns:\n",
    "    durs = []\n",
    "    for ap in tqdm(df[\"audio_path\"], desc=\"Compute duration (all)\"):\n",
    "        durs.append(safe_duration(str(ap)))\n",
    "    df[\"duration_sec\"] = durs\n",
    "\n",
    "# ---- compute snr if missing ----\n",
    "if \"snr_db\" not in df.columns:\n",
    "    snrs = []\n",
    "    for ap in tqdm(df[\"audio_path\"], desc=\"Estimate SNR (all)\"):\n",
    "        snrs.append(estimate_snr_librosa(str(ap)))\n",
    "    df[\"snr_db\"] = snrs\n",
    "\n",
    "# ---- persist metrics for audit/reuse ----\n",
    "METRICS_CSV = CV_DIR / \"merged_en_de_metrics.csv\"\n",
    "df.to_csv(METRICS_CSV, index=False)\n",
    "print(f\"Saved metrics → {METRICS_CSV}\")\n",
    "\n",
    "# ---- apply filters ----\n",
    "before = len(df)\n",
    "mask = (\n",
    "    df[\"duration_sec\"].between(MIN_DUR, MAX_DUR, inclusive=\"both\") &\n",
    "    (df[\"snr_db\"] >= THRESH_SNR_DB)\n",
    ")\n",
    "filtered = df[mask].dropna(subset=[\"duration_sec\",\"snr_db\"]).copy()\n",
    "\n",
    "OUT_FILTERED = CV_DIR / \"merged_en_de_filtered.csv\"\n",
    "filtered.to_csv(OUT_FILTERED, index=False)\n",
    "\n",
    "print(f\"Kept {len(filtered)} / {before} rows \"\n",
    "      f\"({len(filtered)/max(before,1)*100:.2f}%) → {OUT_FILTERED.name}\")\n",
    "print(\"\\n[Kept] Duration stats:\\n\", filtered[\"duration_sec\"].describe())\n",
    "print(\"\\n[Kept] SNR dB stats:\\n\", filtered[\"snr_db\"].describe())"
   ]
  },
  {
   "cell_type": "code",
   "execution_count": 8,
   "id": "7c599a22",
   "metadata": {},
   "outputs": [
    {
     "name": "stderr",
     "output_type": "stream",
     "text": [
      "Duration (full):  19%|█▉        | 202381/1047368 [03:29<14:36, 963.79it/s]  \n"
     ]
    },
    {
     "ename": "KeyboardInterrupt",
     "evalue": "",
     "output_type": "error",
     "traceback": [
      "\u001b[1;31m---------------------------------------------------------------------------\u001b[0m",
      "\u001b[1;31mKeyboardInterrupt\u001b[0m                         Traceback (most recent call last)",
      "Cell \u001b[1;32mIn[8], line 6\u001b[0m\n\u001b[0;32m      4\u001b[0m \u001b[38;5;28;01mfor\u001b[39;00m p \u001b[38;5;129;01min\u001b[39;00m tqdm(df[\u001b[38;5;124m\"\u001b[39m\u001b[38;5;124maudio_path\u001b[39m\u001b[38;5;124m\"\u001b[39m], desc\u001b[38;5;241m=\u001b[39m\u001b[38;5;124m\"\u001b[39m\u001b[38;5;124mDuration (full)\u001b[39m\u001b[38;5;124m\"\u001b[39m):\n\u001b[0;32m      5\u001b[0m     \u001b[38;5;28;01mtry\u001b[39;00m:\n\u001b[1;32m----> 6\u001b[0m         d \u001b[38;5;241m=\u001b[39m \u001b[43mlibrosa\u001b[49m\u001b[38;5;241;43m.\u001b[39;49m\u001b[43mget_duration\u001b[49m\u001b[43m(\u001b[49m\u001b[43mpath\u001b[49m\u001b[38;5;241;43m=\u001b[39;49m\u001b[43mp\u001b[49m\u001b[43m)\u001b[49m\n\u001b[0;32m      7\u001b[0m     \u001b[38;5;28;01mexcept\u001b[39;00m \u001b[38;5;167;01mException\u001b[39;00m:\n\u001b[0;32m      8\u001b[0m         d \u001b[38;5;241m=\u001b[39m \u001b[38;5;28;01mNone\u001b[39;00m\n",
      "File \u001b[1;32mc:\\Users\\Grace\\anaconda3\\envs\\seq2seq\\lib\\site-packages\\librosa\\core\\audio.py:796\u001b[0m, in \u001b[0;36mget_duration\u001b[1;34m(y, sr, S, n_fft, hop_length, center, path, filename)\u001b[0m\n\u001b[0;32m    794\u001b[0m \u001b[38;5;28;01mif\u001b[39;00m path \u001b[38;5;129;01mis\u001b[39;00m \u001b[38;5;129;01mnot\u001b[39;00m \u001b[38;5;28;01mNone\u001b[39;00m:\n\u001b[0;32m    795\u001b[0m     \u001b[38;5;28;01mtry\u001b[39;00m:\n\u001b[1;32m--> 796\u001b[0m         \u001b[38;5;28;01mreturn\u001b[39;00m \u001b[43msf\u001b[49m\u001b[38;5;241;43m.\u001b[39;49m\u001b[43minfo\u001b[49m\u001b[43m(\u001b[49m\u001b[43mpath\u001b[49m\u001b[43m)\u001b[49m\u001b[38;5;241m.\u001b[39mduration  \u001b[38;5;66;03m# type: ignore\u001b[39;00m\n\u001b[0;32m    797\u001b[0m     \u001b[38;5;28;01mexcept\u001b[39;00m sf\u001b[38;5;241m.\u001b[39mSoundFileRuntimeError:\n\u001b[0;32m    798\u001b[0m         warnings\u001b[38;5;241m.\u001b[39mwarn(\n\u001b[0;32m    799\u001b[0m             \u001b[38;5;124m\"\u001b[39m\u001b[38;5;124mPySoundFile failed. Trying audioread instead.\u001b[39m\u001b[38;5;124m\"\u001b[39m\n\u001b[0;32m    800\u001b[0m             \u001b[38;5;124m\"\u001b[39m\u001b[38;5;130;01m\\n\u001b[39;00m\u001b[38;5;130;01m\\t\u001b[39;00m\u001b[38;5;124mAudioread support is deprecated in librosa 0.10.0\u001b[39m\u001b[38;5;124m\"\u001b[39m\n\u001b[1;32m   (...)\u001b[0m\n\u001b[0;32m    803\u001b[0m             category\u001b[38;5;241m=\u001b[39m\u001b[38;5;167;01mFutureWarning\u001b[39;00m,\n\u001b[0;32m    804\u001b[0m         )\n",
      "File \u001b[1;32mc:\\Users\\Grace\\anaconda3\\envs\\seq2seq\\lib\\site-packages\\soundfile.py:488\u001b[0m, in \u001b[0;36minfo\u001b[1;34m(file, verbose)\u001b[0m\n\u001b[0;32m    480\u001b[0m \u001b[38;5;28;01mdef\u001b[39;00m\u001b[38;5;250m \u001b[39m\u001b[38;5;21minfo\u001b[39m(file, verbose\u001b[38;5;241m=\u001b[39m\u001b[38;5;28;01mFalse\u001b[39;00m):\n\u001b[0;32m    481\u001b[0m \u001b[38;5;250m    \u001b[39m\u001b[38;5;124;03m\"\"\"Returns an object with information about a `SoundFile`.\u001b[39;00m\n\u001b[0;32m    482\u001b[0m \n\u001b[0;32m    483\u001b[0m \u001b[38;5;124;03m    Parameters\u001b[39;00m\n\u001b[1;32m   (...)\u001b[0m\n\u001b[0;32m    486\u001b[0m \u001b[38;5;124;03m        Whether to print additional information.\u001b[39;00m\n\u001b[0;32m    487\u001b[0m \u001b[38;5;124;03m    \"\"\"\u001b[39;00m\n\u001b[1;32m--> 488\u001b[0m     \u001b[38;5;28;01mreturn\u001b[39;00m \u001b[43m_SoundFileInfo\u001b[49m\u001b[43m(\u001b[49m\u001b[43mfile\u001b[49m\u001b[43m,\u001b[49m\u001b[43m \u001b[49m\u001b[43mverbose\u001b[49m\u001b[43m)\u001b[49m\n",
      "File \u001b[1;32mc:\\Users\\Grace\\anaconda3\\envs\\seq2seq\\lib\\site-packages\\soundfile.py:433\u001b[0m, in \u001b[0;36m_SoundFileInfo.__init__\u001b[1;34m(self, file, verbose)\u001b[0m\n\u001b[0;32m    431\u001b[0m \u001b[38;5;28;01mdef\u001b[39;00m\u001b[38;5;250m \u001b[39m\u001b[38;5;21m__init__\u001b[39m(\u001b[38;5;28mself\u001b[39m, file, verbose):\n\u001b[0;32m    432\u001b[0m     \u001b[38;5;28mself\u001b[39m\u001b[38;5;241m.\u001b[39mverbose \u001b[38;5;241m=\u001b[39m verbose\n\u001b[1;32m--> 433\u001b[0m     \u001b[38;5;28;01mwith\u001b[39;00m \u001b[43mSoundFile\u001b[49m\u001b[43m(\u001b[49m\u001b[43mfile\u001b[49m\u001b[43m)\u001b[49m \u001b[38;5;28;01mas\u001b[39;00m f:\n\u001b[0;32m    434\u001b[0m         \u001b[38;5;28mself\u001b[39m\u001b[38;5;241m.\u001b[39mname \u001b[38;5;241m=\u001b[39m f\u001b[38;5;241m.\u001b[39mname\n\u001b[0;32m    435\u001b[0m         \u001b[38;5;28mself\u001b[39m\u001b[38;5;241m.\u001b[39msamplerate \u001b[38;5;241m=\u001b[39m f\u001b[38;5;241m.\u001b[39msamplerate\n",
      "File \u001b[1;32mc:\\Users\\Grace\\anaconda3\\envs\\seq2seq\\lib\\site-packages\\soundfile.py:690\u001b[0m, in \u001b[0;36mSoundFile.__init__\u001b[1;34m(self, file, mode, samplerate, channels, subtype, endian, format, closefd, compression_level, bitrate_mode)\u001b[0m\n\u001b[0;32m    687\u001b[0m \u001b[38;5;28mself\u001b[39m\u001b[38;5;241m.\u001b[39m_bitrate_mode \u001b[38;5;241m=\u001b[39m bitrate_mode\n\u001b[0;32m    688\u001b[0m \u001b[38;5;28mself\u001b[39m\u001b[38;5;241m.\u001b[39m_info \u001b[38;5;241m=\u001b[39m _create_info_struct(file, mode, samplerate, channels,\n\u001b[0;32m    689\u001b[0m                                  \u001b[38;5;28mformat\u001b[39m, subtype, endian)\n\u001b[1;32m--> 690\u001b[0m \u001b[38;5;28mself\u001b[39m\u001b[38;5;241m.\u001b[39m_file \u001b[38;5;241m=\u001b[39m \u001b[38;5;28;43mself\u001b[39;49m\u001b[38;5;241;43m.\u001b[39;49m\u001b[43m_open\u001b[49m\u001b[43m(\u001b[49m\u001b[43mfile\u001b[49m\u001b[43m,\u001b[49m\u001b[43m \u001b[49m\u001b[43mmode_int\u001b[49m\u001b[43m,\u001b[49m\u001b[43m \u001b[49m\u001b[43mclosefd\u001b[49m\u001b[43m)\u001b[49m\n\u001b[0;32m    691\u001b[0m \u001b[38;5;28;01mif\u001b[39;00m \u001b[38;5;28mset\u001b[39m(mode)\u001b[38;5;241m.\u001b[39missuperset(\u001b[38;5;124m'\u001b[39m\u001b[38;5;124mr+\u001b[39m\u001b[38;5;124m'\u001b[39m) \u001b[38;5;129;01mand\u001b[39;00m \u001b[38;5;28mself\u001b[39m\u001b[38;5;241m.\u001b[39mseekable():\n\u001b[0;32m    692\u001b[0m     \u001b[38;5;66;03m# Move write position to 0 (like in Python file objects)\u001b[39;00m\n\u001b[0;32m    693\u001b[0m     \u001b[38;5;28mself\u001b[39m\u001b[38;5;241m.\u001b[39mseek(\u001b[38;5;241m0\u001b[39m)\n",
      "File \u001b[1;32mc:\\Users\\Grace\\anaconda3\\envs\\seq2seq\\lib\\site-packages\\soundfile.py:1254\u001b[0m, in \u001b[0;36mSoundFile._open\u001b[1;34m(self, file, mode_int, closefd)\u001b[0m\n\u001b[0;32m   1252\u001b[0m         \u001b[38;5;28;01melse\u001b[39;00m:\n\u001b[0;32m   1253\u001b[0m             file \u001b[38;5;241m=\u001b[39m file\u001b[38;5;241m.\u001b[39mencode(_sys\u001b[38;5;241m.\u001b[39mgetfilesystemencoding())\n\u001b[1;32m-> 1254\u001b[0m     file_ptr \u001b[38;5;241m=\u001b[39m \u001b[43mopenfunction\u001b[49m\u001b[43m(\u001b[49m\u001b[43mfile\u001b[49m\u001b[43m,\u001b[49m\u001b[43m \u001b[49m\u001b[43mmode_int\u001b[49m\u001b[43m,\u001b[49m\u001b[43m \u001b[49m\u001b[38;5;28;43mself\u001b[39;49m\u001b[38;5;241;43m.\u001b[39;49m\u001b[43m_info\u001b[49m\u001b[43m)\u001b[49m\n\u001b[0;32m   1255\u001b[0m \u001b[38;5;28;01melif\u001b[39;00m \u001b[38;5;28misinstance\u001b[39m(file, \u001b[38;5;28mint\u001b[39m):\n\u001b[0;32m   1256\u001b[0m     file_ptr \u001b[38;5;241m=\u001b[39m _snd\u001b[38;5;241m.\u001b[39msf_open_fd(file, mode_int, \u001b[38;5;28mself\u001b[39m\u001b[38;5;241m.\u001b[39m_info, closefd)\n",
      "\u001b[1;31mKeyboardInterrupt\u001b[0m: "
     ]
    }
   ],
   "source": [
    "# Compute duration & SNR for ALL rows\n",
    "all_durs, all_snrs = [], []\n",
    "\n",
    "for p in tqdm(df[\"audio_path\"], desc=\"Duration (full)\"):\n",
    "    try:\n",
    "        d = librosa.get_duration(path=p)\n",
    "    except Exception:\n",
    "        d = None\n",
    "    all_durs.append(d)\n",
    "\n",
    "for p in tqdm(df[\"audio_path\"], desc=\"SNR (full)\"):\n",
    "    try:\n",
    "        s = estimate_snr_librosa(p)\n",
    "    except Exception:\n",
    "        s = None\n",
    "    all_snrs.append(s)\n",
    "\n",
    "df[\"duration_sec\"] = all_durs\n",
    "df[\"snr_db\"] = all_snrs\n",
    "\n",
    "# Apply filters\n",
    "before = len(df)\n",
    "mask = (\n",
    "    df[\"duration_sec\"].between(MIN_DUR, MAX_DUR, inclusive=\"both\")\n",
    "    & (df[\"snr_db\"] >= THRESH_SNR_DB)\n",
    ")\n",
    "\n",
    "filtered = df[mask].dropna(subset=[\"duration_sec\",\"snr_db\"]).copy()\n",
    "\n",
    "out_filtered = CV_DIR / \"merged_en_de_filtered.csv\"\n",
    "filtered.to_csv(out_filtered, index=False)\n",
    "\n",
    "print(f\"Filtered: {len(filtered)} / {before} kept\")\n",
    "print(f\"Saved: {out_filtered}\")\n",
    "filtered.head(3)"
   ]
  },
  {
   "cell_type": "markdown",
   "id": "60049290",
   "metadata": {},
   "source": [
    "## 3. Speaker-Disjoint Split (deterministic by `client_id`)\n",
    "\n",
    "We map each sample back to `client_id` to assign **train/dev/test** splits."
   ]
  },
  {
   "cell_type": "code",
   "execution_count": null,
   "id": "91a4e55a",
   "metadata": {},
   "outputs": [],
   "source": [
    "# To get client_id, read validated/train/dev/test TSVs and map 'path'->'client_id'\n",
    "client_map = {}\n",
    "for file in CV_SPLITS:\n",
    "    p = CV_DIR / file\n",
    "    if not p.exists(): \n",
    "        continue\n",
    "    t = pd.read_csv(p, sep=\"\\\\t\", usecols=[c for c in [\"path\",\"client_id\"] if c in pd.read_csv(p, sep=\"\\\\t\", nrows=0).columns])\n",
    "    if t.empty or \"path\" not in t.columns:\n",
    "        continue\n",
    "    for r in t.itertuples(index=False):\n",
    "        client_map[getattr(r, \"path\")] = getattr(r, \"client_id\") if hasattr(r, \"client_id\") else None\n",
    "\n",
    "fdf = pd.read_csv(WORK_DIR / \"merged_en_de_filtered.csv\")\n",
    "fdf[\"path\"] = fdf[\"audio_path\"].map(lambda q: os.path.basename(q))\n",
    "fdf[\"client_id\"] = fdf[\"path\"].map(client_map).fillna(\"unknown_client\")\n",
    "\n",
    "fdf[\"split\"] = fdf[\"client_id\"].astype(str).map(lambda cid: assign_split_by_speaker(cid, SPLIT_RATIO))\n",
    "\n",
    "# Save split map & seed manifest\n",
    "split_map = fdf[[\"client_id\",\"split\"]].drop_duplicates().sort_values(\"client_id\")\n",
    "split_map.to_csv(WORK_DIR / \"split_map.csv\", index=False)\n",
    "\n",
    "seed = fdf.copy()\n",
    "seed.to_csv(WORK_DIR / \"manifest_seed.csv\", index=False)\n",
    "\n",
    "# Tiny dev for quick iterations\n",
    "dev = seed[seed[\"split\"]==\"dev\"].copy()\n",
    "tiny = dev.groupby(\"client_id\", as_index=False).head(MAX_PER_SPK_TINY).head(TINY_DEV_TARGET)\n",
    "tiny.to_csv(WORK_DIR / \"tiny_dev.csv\", index=False)\n",
    "\n",
    "print(\"Saved: split_map.csv, manifest_seed.csv, tiny_dev.csv\")"
   ]
  },
  {
   "cell_type": "markdown",
   "id": "a6f0a96b",
   "metadata": {},
   "source": [
    "## 4. Audio Standardization (MP3→WAV + loudness + HP/LP + VAD trimming)"
   ]
  },
  {
   "cell_type": "code",
   "execution_count": null,
   "id": "92da654e",
   "metadata": {},
   "outputs": [],
   "source": [
    "from concurrent.futures import ThreadPoolExecutor, as_completed\n",
    "\n",
    "def standardize_one(src_path: str) -> Optional[Path]:\n",
    "    src = Path(src_path)\n",
    "    if not src.exists():\n",
    "        return None\n",
    "    out_wav = WAV_DIR / (src.stem + \".wav\")\n",
    "    out_wav.parent.mkdir(parents=True, exist_ok=True)\n",
    "    af = [\n",
    "        \"dynaudnorm=f=150:g=15\",\n",
    "        \"highpass=f=40\",\n",
    "        \"lowpass=f=7500\",\n",
    "        f\"silenceremove=start_periods=1:start_threshold={SIL_START_DB}dB:start_silence={SIL_PAD_S}:stop_periods=1:stop_threshold={SIL_STOP_DB}dB:stop_silence={SIL_PAD_S}\"\n",
    "    ]\n",
    "    cmd = [\n",
    "        \"ffmpeg\",\"-nostdin\",\"-y\",\"-i\", str(src),\n",
    "        \"-ac\",\"1\",\"-ar\", str(SR_TARGET), \"-sample_fmt\",\"s16\",\n",
    "        \"-af\", \",\".join(af),\n",
    "        str(out_wav)\n",
    "    ]\n",
    "    try:\n",
    "        subprocess.run(cmd, check=True, stdout=subprocess.PIPE, stderr=subprocess.PIPE)\n",
    "        return out_wav\n",
    "    except subprocess.CalledProcessError:\n",
    "        return None\n",
    "\n",
    "seed = pd.read_csv(WORK_DIR / \"manifest_seed.csv\")\n",
    "paths = seed[\"audio_path\"].astype(str).tolist()\n",
    "\n",
    "with ThreadPoolExecutor(max_workers=8) as ex:\n",
    "    futs = [ex.submit(standardize_one, p) for p in paths]\n",
    "    for _ in tqdm(as_completed(futs), total=len(futs), desc=\"Standardizing WAVs\"):\n",
    "        _ = _.result()\n",
    "\n",
    "wav_manifest = seed.copy()\n",
    "wav_manifest[\"audio_wav\"] = wav_manifest[\"audio_path\"].map(lambda p: (WAV_DIR / Path(p).name).with_suffix(\".wav\").as_posix())\n",
    "wav_manifest.to_csv(WORK_DIR / \"manifest_wav.csv\", index=False)\n",
    "print(\"Saved: manifest_wav.csv\")"
   ]
  },
  {
   "cell_type": "markdown",
   "id": "11be66de",
   "metadata": {},
   "source": [
    "## 5. Feature Extraction (log-Mel) + **Train-only CMVN**"
   ]
  },
  {
   "cell_type": "code",
   "execution_count": null,
   "id": "6e012d74",
   "metadata": {},
   "outputs": [],
   "source": [
    "def logmel_from_wav(path_wav: Path, sr_target: int = SR_TARGET, n_mels: int = N_MELS,\n",
    "                    win_ms: int = WIN_MS, hop_ms: int = HOP_MS) -> Optional[np.ndarray]:\n",
    "    try:\n",
    "        y, sr = sf.read(str(path_wav), always_2d=False)\n",
    "        if isinstance(y, np.ndarray) and y.ndim == 2:\n",
    "            y = y.mean(axis=1)\n",
    "        if sr != sr_target:\n",
    "            y = librosa.resample(y.astype(np.float32), orig_sr=sr, target_sr=sr_target)\n",
    "            sr = sr_target\n",
    "        S = librosa.feature.melspectrogram(\n",
    "            y=y, sr=sr, n_mels=n_mels,\n",
    "            n_fft=int(sr*win_ms/1000), hop_length=int(sr*hop_ms/1000), win_length=int(sr*win_ms/1000),\n",
    "            center=True, power=2.0\n",
    "        )\n",
    "        logmel = np.log(np.maximum(S, 1e-10)).astype(np.float32)\n",
    "        return logmel\n",
    "    except Exception:\n",
    "        return None\n",
    "\n",
    "def extract_and_save_features(manifest_csv: Path, out_dir: Path) -> pd.DataFrame:\n",
    "    dfm = pd.read_csv(manifest_csv)\n",
    "    out_paths, shapes = [], []\n",
    "    for _, row in tqdm(dfm.iterrows(), total=len(dfm), desc=f\"Extract feats -> {out_dir.name}\"):\n",
    "        wav_p = Path(row[\"audio_wav\"])\n",
    "        if not wav_p.exists():\n",
    "            out_paths.append(\"\"); shapes.append(\"\"); continue\n",
    "        F = logmel_from_wav(wav_p)\n",
    "        if F is None:\n",
    "            out_paths.append(\"\"); shapes.append(\"\"); continue\n",
    "        out_path = out_dir / (wav_p.stem + \".npy\")\n",
    "        out_dir.mkdir(parents=True, exist_ok=True)\n",
    "        np.save(out_path, F)\n",
    "        out_paths.append(out_path.as_posix())\n",
    "        shapes.append(f\"{F.shape[0]}x{F.shape[1]}\")\n",
    "    dfm[\"feat_npy\"] = out_paths\n",
    "    dfm[\"feat_shape\"] = shapes\n",
    "    return dfm\n",
    "\n",
    "LOGMEL_DIR = FEAT_DIR / \"logmel\"\n",
    "df_feats = extract_and_save_features(WORK_DIR / \"manifest_wav.csv\", LOGMEL_DIR)\n",
    "\n",
    "# Train-only CMVN\n",
    "train_mask = df_feats[\"split\"]==\"train\"\n",
    "train_feat_paths = df_feats.loc[train_mask, \"feat_npy\"].replace(\"\", np.nan).dropna().tolist()\n",
    "\n",
    "sum_feat = None\n",
    "sum_sq   = None\n",
    "count    = 0\n",
    "for p in tqdm(train_feat_paths, desc=\"CMVN (train) accumulate\"):\n",
    "    F = np.load(p)\n",
    "    if sum_feat is None:\n",
    "        sum_feat = F.sum(axis=1)\n",
    "        sum_sq   = (F**2).sum(axis=1)\n",
    "    else:\n",
    "        sum_feat += F.sum(axis=1)\n",
    "        sum_sq   += (F**2).sum(axis=1)\n",
    "    count += F.shape[1]\n",
    "\n",
    "cmvn = {}\n",
    "if count > 0:\n",
    "    mean = (sum_feat / count).astype(np.float32)\n",
    "    var  = (sum_sq / count - mean**2).astype(np.float32)\n",
    "    std  = np.sqrt(np.maximum(var, 1e-8)).astype(np.float32)\n",
    "    cmvn = {\"mean\": mean.tolist(), \"std\": std.tolist()}\n",
    "    with open(WORK_DIR / \"cmvn_train.json\", \"w\") as f:\n",
    "        json.dump(cmvn, f)\n",
    "    print(\"Saved: cmvn_train.json\")\n",
    "\n",
    "# Apply CMVN to all .npy in-place\n",
    "if cmvn:\n",
    "    mean = np.array(cmvn[\"mean\"], dtype=np.float32)[:, None]\n",
    "    std  = np.array(cmvn[\"std\"], dtype=np.float32)[:, None]\n",
    "    for p in tqdm(df_feats[\"feat_npy\"].replace(\"\", np.nan).dropna().tolist(), desc=\"Apply CMVN\"):\n",
    "        F = np.load(p)\n",
    "        Fn = (F - mean) / std\n",
    "        np.save(p, Fn)\n",
    "\n",
    "df_feats.to_csv(WORK_DIR / \"manifest_features.csv\", index=False)\n",
    "print(\"Saved: manifest_features.csv\")"
   ]
  },
  {
   "cell_type": "markdown",
   "id": "6640984c",
   "metadata": {},
   "source": [
    "## 6. Augmentation (**Train only**; demo subset)\n",
    "\n",
    "Speed perturbation x0.9/x1.1 on a small subset to illustrate the mechanism. Extend as needed."
   ]
  },
  {
   "cell_type": "code",
   "execution_count": null,
   "id": "13e59acf",
   "metadata": {},
   "outputs": [],
   "source": [
    "def augment_speed(src_wav: Path, dst_wav: Path, factor: float) -> bool:\n",
    "    cmd = [\"ffmpeg\",\"-nostdin\",\"-y\",\"-i\", str(src_wav), \"-filter:a\", f\"atempo={factor}\", str(dst_wav)]\n",
    "    try: subprocess.run(cmd, check=True, stdout=subprocess.PIPE, stderr=subprocess.PIPE); return True\n",
    "    except subprocess.CalledProcessError: return False\n",
    "\n",
    "train_wavs = df_feats[df_feats[\"split\"]==\"train\"][\"audio_wav\"].replace(\"\", np.nan).dropna().tolist()\n",
    "for wav_str in tqdm(train_wavs[:200], desc=\"Augment (speed demo)\"):\n",
    "    w = Path(wav_str)\n",
    "    if not w.exists(): continue\n",
    "    out_09 = AUG_DIR / f\"{w.stem}_sp0.9.wav\"\n",
    "    out_11 = AUG_DIR / f\"{w.stem}_sp1.1.wav\"\n",
    "    _ = augment_speed(w, out_09, 0.9)\n",
    "    _ = augment_speed(w, out_11, 1.1)\n",
    "\n",
    "print(\"Augmentation demo done (first 200 files).\")"
   ]
  },
  {
   "cell_type": "markdown",
   "id": "61b1d216",
   "metadata": {},
   "source": [
    "## Notes\n",
    "\n",
    "- Filtering **after visualization** ensures your thresholds are data‑driven.  \n",
    "- All **learned statistics** are from **train only** (no leakage).  \n",
    "- Scale out by parallelizing heavy loops and/or sharding manifests."
   ]
  },
  {
   "cell_type": "markdown",
   "id": "0a8f09b4",
   "metadata": {},
   "source": []
  }
 ],
 "metadata": {
  "kernelspec": {
   "display_name": "seq2seq",
   "language": "python",
   "name": "python3"
  },
  "language_info": {
   "codemirror_mode": {
    "name": "ipython",
    "version": 3
   },
   "file_extension": ".py",
   "mimetype": "text/x-python",
   "name": "python",
   "nbconvert_exporter": "python",
   "pygments_lexer": "ipython3",
   "version": "3.10.18"
  }
 },
 "nbformat": 4,
 "nbformat_minor": 5
}
